{
  "nbformat": 4,
  "nbformat_minor": 0,
  "metadata": {
    "colab": {
      "name": "catch-recipe.ipynb",
      "provenance": []
    },
    "kernelspec": {
      "name": "python3",
      "display_name": "Python 3"
    },
    "language_info": {
      "name": "python"
    }
  },
  "cells": [
    {
      "cell_type": "code",
      "metadata": {
        "colab": {
          "base_uri": "https://localhost:8080/",
          "height": 426
        },
        "id": "jRUhqhv7QrPb",
        "outputId": "6ee8e245-7bd7-48a0-a456-c501522246b6"
      },
      "source": [
        "import pandas as pd\n",
        "import numpy as np\n",
        "#load the recipes dataset\n",
        "filepath = \"https://github.com/hugo19810607/TibaMe-training/raw/main/recipes.csv\"\n",
        "df_recipes = pd.read_csv(filepath, encoding=\"utf-8\")\n",
        "\n",
        "#drop rows where cuisine, ingregients are NA\n",
        "df_recipes.dropna(subset=['ingredients'],inplace=True)\n",
        "df_recipes"
      ],
      "execution_count": null,
      "outputs": [
        {
          "output_type": "execute_result",
          "data": {
            "text/html": [
              "<div>\n",
              "<style scoped>\n",
              "    .dataframe tbody tr th:only-of-type {\n",
              "        vertical-align: middle;\n",
              "    }\n",
              "\n",
              "    .dataframe tbody tr th {\n",
              "        vertical-align: top;\n",
              "    }\n",
              "\n",
              "    .dataframe thead th {\n",
              "        text-align: right;\n",
              "    }\n",
              "</style>\n",
              "<table border=\"1\" class=\"dataframe\">\n",
              "  <thead>\n",
              "    <tr style=\"text-align: right;\">\n",
              "      <th></th>\n",
              "      <th>食譜編號</th>\n",
              "      <th>recipeName</th>\n",
              "      <th>食譜網址</th>\n",
              "      <th>ingredients</th>\n",
              "      <th>調味料</th>\n",
              "    </tr>\n",
              "  </thead>\n",
              "  <tbody>\n",
              "    <tr>\n",
              "      <th>0</th>\n",
              "      <td>1</td>\n",
              "      <td>歐姆蛋豬肉咖哩飯</td>\n",
              "      <td>https://icook.tw/recipes/335766</td>\n",
              "      <td>紅蘿蔔 花椰菜 豬肉 馬鈴薯 洋蔥</td>\n",
              "      <td>NaN</td>\n",
              "    </tr>\n",
              "    <tr>\n",
              "      <th>1</th>\n",
              "      <td>2</td>\n",
              "      <td>羅宋湯</td>\n",
              "      <td>https://icook.tw/recipes/330912</td>\n",
              "      <td>牛肉 馬鈴薯 番茄 紅蘿蔔 洋蔥 西洋芹</td>\n",
              "      <td>鹽巴</td>\n",
              "    </tr>\n",
              "    <tr>\n",
              "      <th>2</th>\n",
              "      <td>3</td>\n",
              "      <td>剝皮辣椒雞湯</td>\n",
              "      <td>https://icook.tw/recipes/395348</td>\n",
              "      <td>雞肉 薑片 枸杞</td>\n",
              "      <td>鹽巴 米酒 蒜頭</td>\n",
              "    </tr>\n",
              "    <tr>\n",
              "      <th>3</th>\n",
              "      <td>4</td>\n",
              "      <td>泰式咖哩蟹</td>\n",
              "      <td>https://icook.tw/recipes/224604</td>\n",
              "      <td>海蟹 唐芹 洋蔥 蔥 咖哩粉 油 蒜蓉</td>\n",
              "      <td>料酒 蠔油 醬油</td>\n",
              "    </tr>\n",
              "    <tr>\n",
              "      <th>4</th>\n",
              "      <td>5</td>\n",
              "      <td>三杯菇菇雞</td>\n",
              "      <td>https://icook.tw/recipes/270334</td>\n",
              "      <td>去骨雞腿 鴻喜菇 蒜頭 九層塔 杏鮑菇 薑 紅辣椒</td>\n",
              "      <td>麻油 米酒 醬油膏</td>\n",
              "    </tr>\n",
              "    <tr>\n",
              "      <th>5</th>\n",
              "      <td>6</td>\n",
              "      <td>牛小排佐紅酒醬</td>\n",
              "      <td>https://icook.tw/recipes/372719</td>\n",
              "      <td>牛小排 米酒 紅酒 洋蔥絲 奶油 雞高湯</td>\n",
              "      <td>鹽 胡椒粉</td>\n",
              "    </tr>\n",
              "    <tr>\n",
              "      <th>6</th>\n",
              "      <td>7</td>\n",
              "      <td>蛋酥滷白菜</td>\n",
              "      <td>https://icook.tw/recipes/238650</td>\n",
              "      <td>白菜 木耳絲 乾香菇絲 辣椒丁 蛋 紅蘿蔔絲 蔥段 蒜末</td>\n",
              "      <td>香菇水 鹽 胡椒粉 香油 高湯 糖 太白粉</td>\n",
              "    </tr>\n",
              "    <tr>\n",
              "      <th>7</th>\n",
              "      <td>8</td>\n",
              "      <td>高麗菜封</td>\n",
              "      <td>https://icook.tw/recipes/394834</td>\n",
              "      <td>高麗菜 蔥 八角 辣椒 薑片</td>\n",
              "      <td>鹽 糖 醬油 黃豆醬</td>\n",
              "    </tr>\n",
              "    <tr>\n",
              "      <th>8</th>\n",
              "      <td>9</td>\n",
              "      <td>日式馬鈴薯燉肉</td>\n",
              "      <td>https://www.ytower.com.tw/recipe/iframe-recipe...</td>\n",
              "      <td>五花肉 馬鈴薯 紅蘿蔔 香菇 薑片 紅辣椒</td>\n",
              "      <td>四季高純釀醬油 清酒 味醂 水</td>\n",
              "    </tr>\n",
              "    <tr>\n",
              "      <th>9</th>\n",
              "      <td>10</td>\n",
              "      <td>燉煮韓式馬鈴薯</td>\n",
              "      <td>https://www.ytower.com.tw/recipe/iframe-recipe...</td>\n",
              "      <td>馬鈴薯 胡蘿蔔 洋蔥 秋葵 五花三層肉 蒜片 韓式辣椒粉 麻油</td>\n",
              "      <td>醬油 米酒 糖 水</td>\n",
              "    </tr>\n",
              "    <tr>\n",
              "      <th>10</th>\n",
              "      <td>11</td>\n",
              "      <td>燉煮奶油白菜</td>\n",
              "      <td>https://www.ytower.com.tw/recipe/iframe-recipe...</td>\n",
              "      <td>大白菜 鴻喜菇 杏鮑菇 胡蘿蔔 日式三角油豆腐 干貝 牛奶 奶油</td>\n",
              "      <td>鹽 白胡椒</td>\n",
              "    </tr>\n",
              "    <tr>\n",
              "      <th>11</th>\n",
              "      <td>12</td>\n",
              "      <td>麻油蚵仔煎蛋</td>\n",
              "      <td>https://www.ytower.com.tw/recipe/iframe-recipe...</td>\n",
              "      <td>蚵仔蔥花 雞蛋 老薑 枸杞</td>\n",
              "      <td>胡麻油 鹽 高湯 米酒</td>\n",
              "    </tr>\n",
              "  </tbody>\n",
              "</table>\n",
              "</div>"
            ],
            "text/plain": [
              "    食譜編號 recipeName  ...                       ingredients                    調味料\n",
              "0      1   歐姆蛋豬肉咖哩飯  ...                 紅蘿蔔 花椰菜 豬肉 馬鈴薯 洋蔥                    NaN\n",
              "1      2        羅宋湯  ...              牛肉 馬鈴薯 番茄 紅蘿蔔 洋蔥 西洋芹                     鹽巴\n",
              "2      3     剝皮辣椒雞湯  ...                          雞肉 薑片 枸杞               鹽巴 米酒 蒜頭\n",
              "3      4      泰式咖哩蟹  ...               海蟹 唐芹 洋蔥 蔥 咖哩粉 油 蒜蓉               料酒 蠔油 醬油\n",
              "4      5      三杯菇菇雞  ...         去骨雞腿 鴻喜菇 蒜頭 九層塔 杏鮑菇 薑 紅辣椒              麻油 米酒 醬油膏\n",
              "5      6    牛小排佐紅酒醬  ...              牛小排 米酒 紅酒 洋蔥絲 奶油 雞高湯                  鹽 胡椒粉\n",
              "6      7      蛋酥滷白菜  ...      白菜 木耳絲 乾香菇絲 辣椒丁 蛋 紅蘿蔔絲 蔥段 蒜末  香菇水 鹽 胡椒粉 香油 高湯 糖 太白粉\n",
              "7      8       高麗菜封  ...                    高麗菜 蔥 八角 辣椒 薑片             鹽 糖 醬油 黃豆醬\n",
              "8      9    日式馬鈴薯燉肉  ...             五花肉 馬鈴薯 紅蘿蔔 香菇 薑片 紅辣椒        四季高純釀醬油 清酒 味醂 水\n",
              "9     10    燉煮韓式馬鈴薯  ...   馬鈴薯 胡蘿蔔 洋蔥 秋葵 五花三層肉 蒜片 韓式辣椒粉 麻油              醬油 米酒 糖 水\n",
              "10    11     燉煮奶油白菜  ...  大白菜 鴻喜菇 杏鮑菇 胡蘿蔔 日式三角油豆腐 干貝 牛奶 奶油                  鹽 白胡椒\n",
              "11    12     麻油蚵仔煎蛋  ...                     蚵仔蔥花 雞蛋 老薑 枸杞            胡麻油 鹽 高湯 米酒\n",
              "\n",
              "[12 rows x 5 columns]"
            ]
          },
          "metadata": {},
          "execution_count": 1
        }
      ]
    },
    {
      "cell_type": "code",
      "metadata": {
        "colab": {
          "base_uri": "https://localhost:8080/"
        },
        "id": "bzKKubH8QwcM",
        "outputId": "e7c4142e-3815-49a0-ad6f-c61967b89787"
      },
      "source": [
        "ingredient = input(\"食材: \")\n",
        "for i in range(0,12):\n",
        "  if ingredient in df_recipes['ingredients'][i]:\n",
        "     print(\"recipe:\", \n",
        "        df_recipes[\"recipeName\"][i],\n",
        "        \"食譜網址:\",\n",
        "        df_recipes[\"食譜網址\"][i])"
      ],
      "execution_count": null,
      "outputs": [
        {
          "output_type": "stream",
          "name": "stdout",
          "text": [
            "食材: 雞\n",
            "recipe: 剝皮辣椒雞湯 食譜網址: https://icook.tw/recipes/395348\n",
            "recipe: 三杯菇菇雞 食譜網址: https://icook.tw/recipes/270334\n",
            "recipe: 牛小排佐紅酒醬 食譜網址: https://icook.tw/recipes/372719\n",
            "recipe: 麻油蚵仔煎蛋 食譜網址: https://www.ytower.com.tw/recipe/iframe-recipe.asp?seq=C01-0927\n"
          ]
        }
      ]
    }
  ]
}